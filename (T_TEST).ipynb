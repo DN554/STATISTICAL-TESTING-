{
  "nbformat": 4,
  "nbformat_minor": 0,
  "metadata": {
    "colab": {
      "provenance": [],
      "authorship_tag": "ABX9TyPwtounMD8BSDpdogsy3LNU",
      "include_colab_link": true
    },
    "kernelspec": {
      "name": "python3",
      "display_name": "Python 3"
    },
    "language_info": {
      "name": "python"
    }
  },
  "cells": [
    {
      "cell_type": "markdown",
      "metadata": {
        "id": "view-in-github",
        "colab_type": "text"
      },
      "source": [
        "<a href=\"https://colab.research.google.com/github/DN554/STATISTICAL-TESTING-/blob/main/(T_TEST).ipynb\" target=\"_parent\"><img src=\"https://colab.research.google.com/assets/colab-badge.svg\" alt=\"Open In Colab\"/></a>"
      ]
    },
    {
      "cell_type": "markdown",
      "source": [
        "**T TEST**- Compare the means of two groups or to compare a sample mean to a known population mean when the population standard deviation is unknown and the sample size is relatively small"
      ],
      "metadata": {
        "id": "9yrocZ1y6-XQ"
      }
    },
    {
      "cell_type": "code",
      "execution_count": 1,
      "metadata": {
        "id": "7W7o6joN6w4a"
      },
      "outputs": [],
      "source": [
        "from scipy import stats\n",
        "import numpy as np\n"
      ]
    },
    {
      "cell_type": "code",
      "source": [
        "sample_data=np.array([10,12,11,13,10,9,12,11,10,13])\n"
      ],
      "metadata": {
        "id": "s-7LBk5G7tJL"
      },
      "execution_count": 3,
      "outputs": []
    },
    {
      "cell_type": "code",
      "source": [
        "sample_data.mean()"
      ],
      "metadata": {
        "colab": {
          "base_uri": "https://localhost:8080/"
        },
        "id": "vrE52Jkp8Ghy",
        "outputId": "46ff3bd8-7088-4d17-d4e4-63d64a6f8d43"
      },
      "execution_count": 5,
      "outputs": [
        {
          "output_type": "execute_result",
          "data": {
            "text/plain": [
              "np.float64(11.1)"
            ]
          },
          "metadata": {},
          "execution_count": 5
        }
      ]
    },
    {
      "cell_type": "code",
      "source": [
        "sample_data=np.array([10,12,11,13,10,9,12,11,10,13])\n",
        "population_mean=10.5\n",
        "t_statistic,p_value=stats.ttest_1samp(sample_data,population_mean)\n",
        "print(f\"one -sample t -test:t-statistic ={t_statistic:.2f},p-value={p_value:.3f}\")"
      ],
      "metadata": {
        "colab": {
          "base_uri": "https://localhost:8080/"
        },
        "id": "h_LngEN58QQJ",
        "outputId": "fbc0e47a-f77a-4189-a591-b710634c0049"
      },
      "execution_count": 7,
      "outputs": [
        {
          "output_type": "stream",
          "name": "stdout",
          "text": [
            "one -sample t -test:t-statistic =1.38,p-value=0.200\n"
          ]
        }
      ]
    }
  ]
}