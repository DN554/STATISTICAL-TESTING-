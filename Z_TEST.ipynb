{
  "nbformat": 4,
  "nbformat_minor": 0,
  "metadata": {
    "colab": {
      "provenance": [],
      "authorship_tag": "ABX9TyOHpwSLLQUw6H2y3+0Gq5uo",
      "include_colab_link": true
    },
    "kernelspec": {
      "name": "python3",
      "display_name": "Python 3"
    },
    "language_info": {
      "name": "python"
    }
  },
  "cells": [
    {
      "cell_type": "markdown",
      "metadata": {
        "id": "view-in-github",
        "colab_type": "text"
      },
      "source": [
        "<a href=\"https://colab.research.google.com/github/DN554/STATISTICAL-TESTING-/blob/main/Z_TEST.ipynb\" target=\"_parent\"><img src=\"https://colab.research.google.com/assets/colab-badge.svg\" alt=\"Open In Colab\"/></a>"
      ]
    },
    {
      "cell_type": "markdown",
      "source": [
        "Z-TEST- Compare a sample mean to a known population mean when the poplulation standard deviation is known and the sampke size is large"
      ],
      "metadata": {
        "id": "6zAlu3e_OhkU"
      }
    },
    {
      "cell_type": "code",
      "execution_count": 6,
      "metadata": {
        "id": "vctZI4mZOdfL"
      },
      "outputs": [],
      "source": [
        "from scipy import stats\n",
        "import numpy as np"
      ]
    },
    {
      "cell_type": "code",
      "source": [
        "#FOR z-TEST ,YOU TYPICALLY CALCULATE THE z-SCORE MANUALYY AND THEN USE THE stats.norm.cdf\n",
        "sample_mean = 65\n",
        "population_mean = 60\n",
        "population_std_dev = 5\n",
        "sample_size = 100\n",
        "\n",
        "z_score = (sample_mean - population_mean) / (population_std_dev / np.sqrt(sample_size))\n",
        "#for two tailed test\n",
        "p_value = 1-stats.norm.cdf(z_score)\n",
        "print(f\"Z-test: Z_score={z_score:.2f}, p-value={p_value:.3f}\")"
      ],
      "metadata": {
        "colab": {
          "base_uri": "https://localhost:8080/"
        },
        "id": "BMUrupOgOec4",
        "outputId": "ad1781f0-b2af-4b57-afbe-2cf24d7d10e1"
      },
      "execution_count": 9,
      "outputs": [
        {
          "output_type": "stream",
          "name": "stdout",
          "text": [
            "Z-test: Z_score=10.00, p-value=0.000\n"
          ]
        }
      ]
    },
    {
      "cell_type": "code",
      "source": [],
      "metadata": {
        "id": "sDWqFYiJS2DZ"
      },
      "execution_count": null,
      "outputs": []
    }
  ]
}